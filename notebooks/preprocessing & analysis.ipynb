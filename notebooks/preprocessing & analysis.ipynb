{
 "cells": [
  {
   "cell_type": "code",
   "execution_count": 1,
   "metadata": {},
   "outputs": [],
   "source": [
    "import pandas as pd\n",
    "import numpy as np\n",
    "import seaborn as sns\n",
    "import matplotlib.pyplot as plt\n",
    "import matplotlib.dates as mdates"
   ]
  },
  {
   "cell_type": "code",
   "execution_count": 2,
   "metadata": {},
   "outputs": [
    {
     "data": {
      "text/html": [
       "<div>\n",
       "<style scoped>\n",
       "    .dataframe tbody tr th:only-of-type {\n",
       "        vertical-align: middle;\n",
       "    }\n",
       "\n",
       "    .dataframe tbody tr th {\n",
       "        vertical-align: top;\n",
       "    }\n",
       "\n",
       "    .dataframe thead th {\n",
       "        text-align: right;\n",
       "    }\n",
       "</style>\n",
       "<table border=\"1\" class=\"dataframe\">\n",
       "  <thead>\n",
       "    <tr style=\"text-align: right;\">\n",
       "      <th></th>\n",
       "      <th>reviewId</th>\n",
       "      <th>userName</th>\n",
       "      <th>userImage</th>\n",
       "      <th>content</th>\n",
       "      <th>score</th>\n",
       "      <th>thumbsUpCount</th>\n",
       "      <th>reviewCreatedVersion</th>\n",
       "      <th>at</th>\n",
       "      <th>replyContent</th>\n",
       "      <th>repliedAt</th>\n",
       "      <th>appVersion</th>\n",
       "    </tr>\n",
       "  </thead>\n",
       "  <tbody>\n",
       "    <tr>\n",
       "      <th>0</th>\n",
       "      <td>9f41f2f8-9a8d-4e33-87b5-ebc5be92c43c</td>\n",
       "      <td>winda selvia</td>\n",
       "      <td>https://play-lh.googleusercontent.com/a-/ALV-U...</td>\n",
       "      <td>Sangat2 buruk Uda lama aku menunggu loding2 tr...</td>\n",
       "      <td>1</td>\n",
       "      <td>0</td>\n",
       "      <td>3.1.0</td>\n",
       "      <td>2024-12-30 21:19:44</td>\n",
       "      <td>NaN</td>\n",
       "      <td>NaN</td>\n",
       "      <td>3.1.0</td>\n",
       "    </tr>\n",
       "    <tr>\n",
       "      <th>1</th>\n",
       "      <td>cbac7961-7979-458d-9d23-7fe7cda09fc3</td>\n",
       "      <td>Abdul Khalik</td>\n",
       "      <td>https://play-lh.googleusercontent.com/a-/ALV-U...</td>\n",
       "      <td>👌</td>\n",
       "      <td>5</td>\n",
       "      <td>0</td>\n",
       "      <td>3.1.0</td>\n",
       "      <td>2024-12-30 20:44:50</td>\n",
       "      <td>NaN</td>\n",
       "      <td>NaN</td>\n",
       "      <td>3.1.0</td>\n",
       "    </tr>\n",
       "    <tr>\n",
       "      <th>2</th>\n",
       "      <td>c431e5f7-ce9c-4d0f-80dd-e1e225675cfb</td>\n",
       "      <td>Defandra</td>\n",
       "      <td>https://play-lh.googleusercontent.com/a/ACg8oc...</td>\n",
       "      <td>Okh</td>\n",
       "      <td>5</td>\n",
       "      <td>0</td>\n",
       "      <td>3.1.0</td>\n",
       "      <td>2024-12-30 20:29:25</td>\n",
       "      <td>NaN</td>\n",
       "      <td>NaN</td>\n",
       "      <td>3.1.0</td>\n",
       "    </tr>\n",
       "    <tr>\n",
       "      <th>3</th>\n",
       "      <td>2ae4df5a-7416-4a26-81c4-f6ec74ea89bf</td>\n",
       "      <td>Arrahman Nulkarim</td>\n",
       "      <td>https://play-lh.googleusercontent.com/a/ACg8oc...</td>\n",
       "      <td>App tekcl besic sdh sy daunload tp sayang susa...</td>\n",
       "      <td>1</td>\n",
       "      <td>0</td>\n",
       "      <td>3.1.0</td>\n",
       "      <td>2024-12-30 18:12:31</td>\n",
       "      <td>NaN</td>\n",
       "      <td>NaN</td>\n",
       "      <td>3.1.0</td>\n",
       "    </tr>\n",
       "    <tr>\n",
       "      <th>4</th>\n",
       "      <td>bac07a00-b04c-488d-bb7b-92919c2f98a8</td>\n",
       "      <td>Alex Turner Mayer</td>\n",
       "      <td>https://play-lh.googleusercontent.com/a-/ALV-U...</td>\n",
       "      <td>Masak mau beli paketan login melulu.</td>\n",
       "      <td>1</td>\n",
       "      <td>0</td>\n",
       "      <td>NaN</td>\n",
       "      <td>2024-12-30 15:34:08</td>\n",
       "      <td>NaN</td>\n",
       "      <td>NaN</td>\n",
       "      <td>NaN</td>\n",
       "    </tr>\n",
       "  </tbody>\n",
       "</table>\n",
       "</div>"
      ],
      "text/plain": [
       "                               reviewId           userName  \\\n",
       "0  9f41f2f8-9a8d-4e33-87b5-ebc5be92c43c       winda selvia   \n",
       "1  cbac7961-7979-458d-9d23-7fe7cda09fc3       Abdul Khalik   \n",
       "2  c431e5f7-ce9c-4d0f-80dd-e1e225675cfb           Defandra   \n",
       "3  2ae4df5a-7416-4a26-81c4-f6ec74ea89bf  Arrahman Nulkarim   \n",
       "4  bac07a00-b04c-488d-bb7b-92919c2f98a8  Alex Turner Mayer   \n",
       "\n",
       "                                           userImage  \\\n",
       "0  https://play-lh.googleusercontent.com/a-/ALV-U...   \n",
       "1  https://play-lh.googleusercontent.com/a-/ALV-U...   \n",
       "2  https://play-lh.googleusercontent.com/a/ACg8oc...   \n",
       "3  https://play-lh.googleusercontent.com/a/ACg8oc...   \n",
       "4  https://play-lh.googleusercontent.com/a-/ALV-U...   \n",
       "\n",
       "                                             content  score  thumbsUpCount  \\\n",
       "0  Sangat2 buruk Uda lama aku menunggu loding2 tr...      1              0   \n",
       "1                                                  👌      5              0   \n",
       "2                                                Okh      5              0   \n",
       "3  App tekcl besic sdh sy daunload tp sayang susa...      1              0   \n",
       "4               Masak mau beli paketan login melulu.      1              0   \n",
       "\n",
       "  reviewCreatedVersion                   at  replyContent  repliedAt  \\\n",
       "0                3.1.0  2024-12-30 21:19:44           NaN        NaN   \n",
       "1                3.1.0  2024-12-30 20:44:50           NaN        NaN   \n",
       "2                3.1.0  2024-12-30 20:29:25           NaN        NaN   \n",
       "3                3.1.0  2024-12-30 18:12:31           NaN        NaN   \n",
       "4                  NaN  2024-12-30 15:34:08           NaN        NaN   \n",
       "\n",
       "  appVersion  \n",
       "0      3.1.0  \n",
       "1      3.1.0  \n",
       "2      3.1.0  \n",
       "3      3.1.0  \n",
       "4        NaN  "
      ]
     },
     "execution_count": 2,
     "metadata": {},
     "output_type": "execute_result"
    }
   ],
   "source": [
    "df = pd.read_csv('../data/reviews-com.tsel.telkomselku_12-31-2024_231721.csv')\n",
    "df.head()"
   ]
  },
  {
   "cell_type": "code",
   "execution_count": 3,
   "metadata": {},
   "outputs": [
    {
     "data": {
      "text/plain": [
       "(49998, 11)"
      ]
     },
     "execution_count": 3,
     "metadata": {},
     "output_type": "execute_result"
    }
   ],
   "source": [
    "df.shape"
   ]
  },
  {
   "cell_type": "code",
   "execution_count": 4,
   "metadata": {},
   "outputs": [
    {
     "name": "stdout",
     "output_type": "stream",
     "text": [
      "<class 'pandas.core.frame.DataFrame'>\n",
      "RangeIndex: 49998 entries, 0 to 49997\n",
      "Data columns (total 11 columns):\n",
      " #   Column                Non-Null Count  Dtype  \n",
      "---  ------                --------------  -----  \n",
      " 0   reviewId              49998 non-null  object \n",
      " 1   userName              49998 non-null  object \n",
      " 2   userImage             49998 non-null  object \n",
      " 3   content               49997 non-null  object \n",
      " 4   score                 49998 non-null  int64  \n",
      " 5   thumbsUpCount         49998 non-null  int64  \n",
      " 6   reviewCreatedVersion  31034 non-null  object \n",
      " 7   at                    49998 non-null  object \n",
      " 8   replyContent          0 non-null      float64\n",
      " 9   repliedAt             0 non-null      float64\n",
      " 10  appVersion            31034 non-null  object \n",
      "dtypes: float64(2), int64(2), object(7)\n",
      "memory usage: 4.2+ MB\n"
     ]
    }
   ],
   "source": [
    "df.info()"
   ]
  },
  {
   "cell_type": "code",
   "execution_count": 5,
   "metadata": {},
   "outputs": [
    {
     "data": {
      "text/html": [
       "<div>\n",
       "<style scoped>\n",
       "    .dataframe tbody tr th:only-of-type {\n",
       "        vertical-align: middle;\n",
       "    }\n",
       "\n",
       "    .dataframe tbody tr th {\n",
       "        vertical-align: top;\n",
       "    }\n",
       "\n",
       "    .dataframe thead th {\n",
       "        text-align: right;\n",
       "    }\n",
       "</style>\n",
       "<table border=\"1\" class=\"dataframe\">\n",
       "  <thead>\n",
       "    <tr style=\"text-align: right;\">\n",
       "      <th></th>\n",
       "      <th>score</th>\n",
       "      <th>thumbsUpCount</th>\n",
       "      <th>replyContent</th>\n",
       "      <th>repliedAt</th>\n",
       "    </tr>\n",
       "  </thead>\n",
       "  <tbody>\n",
       "    <tr>\n",
       "      <th>count</th>\n",
       "      <td>49998.000000</td>\n",
       "      <td>49998.000000</td>\n",
       "      <td>0.0</td>\n",
       "      <td>0.0</td>\n",
       "    </tr>\n",
       "    <tr>\n",
       "      <th>mean</th>\n",
       "      <td>2.572223</td>\n",
       "      <td>1.996720</td>\n",
       "      <td>NaN</td>\n",
       "      <td>NaN</td>\n",
       "    </tr>\n",
       "    <tr>\n",
       "      <th>std</th>\n",
       "      <td>1.817353</td>\n",
       "      <td>27.656096</td>\n",
       "      <td>NaN</td>\n",
       "      <td>NaN</td>\n",
       "    </tr>\n",
       "    <tr>\n",
       "      <th>min</th>\n",
       "      <td>1.000000</td>\n",
       "      <td>0.000000</td>\n",
       "      <td>NaN</td>\n",
       "      <td>NaN</td>\n",
       "    </tr>\n",
       "    <tr>\n",
       "      <th>25%</th>\n",
       "      <td>1.000000</td>\n",
       "      <td>0.000000</td>\n",
       "      <td>NaN</td>\n",
       "      <td>NaN</td>\n",
       "    </tr>\n",
       "    <tr>\n",
       "      <th>50%</th>\n",
       "      <td>1.000000</td>\n",
       "      <td>0.000000</td>\n",
       "      <td>NaN</td>\n",
       "      <td>NaN</td>\n",
       "    </tr>\n",
       "    <tr>\n",
       "      <th>75%</th>\n",
       "      <td>5.000000</td>\n",
       "      <td>0.000000</td>\n",
       "      <td>NaN</td>\n",
       "      <td>NaN</td>\n",
       "    </tr>\n",
       "    <tr>\n",
       "      <th>max</th>\n",
       "      <td>5.000000</td>\n",
       "      <td>1812.000000</td>\n",
       "      <td>NaN</td>\n",
       "      <td>NaN</td>\n",
       "    </tr>\n",
       "  </tbody>\n",
       "</table>\n",
       "</div>"
      ],
      "text/plain": [
       "              score  thumbsUpCount  replyContent  repliedAt\n",
       "count  49998.000000   49998.000000           0.0        0.0\n",
       "mean       2.572223       1.996720           NaN        NaN\n",
       "std        1.817353      27.656096           NaN        NaN\n",
       "min        1.000000       0.000000           NaN        NaN\n",
       "25%        1.000000       0.000000           NaN        NaN\n",
       "50%        1.000000       0.000000           NaN        NaN\n",
       "75%        5.000000       0.000000           NaN        NaN\n",
       "max        5.000000    1812.000000           NaN        NaN"
      ]
     },
     "execution_count": 5,
     "metadata": {},
     "output_type": "execute_result"
    }
   ],
   "source": [
    "df.describe()"
   ]
  },
  {
   "cell_type": "markdown",
   "metadata": {},
   "source": [
    "## Handling Incorrect Datatype"
   ]
  },
  {
   "cell_type": "code",
   "execution_count": 6,
   "metadata": {},
   "outputs": [],
   "source": [
    "df_cleaned = df.copy()"
   ]
  },
  {
   "cell_type": "code",
   "execution_count": 7,
   "metadata": {},
   "outputs": [],
   "source": [
    "df_cleaned['at'] = pd.to_datetime(df_cleaned['at'])"
   ]
  },
  {
   "cell_type": "markdown",
   "metadata": {},
   "source": [
    "## Handling Missing Value"
   ]
  },
  {
   "cell_type": "code",
   "execution_count": 8,
   "metadata": {},
   "outputs": [
    {
     "data": {
      "text/plain": [
       "reviewId                    0\n",
       "userName                    0\n",
       "userImage                   0\n",
       "content                     1\n",
       "score                       0\n",
       "thumbsUpCount               0\n",
       "reviewCreatedVersion    18964\n",
       "at                          0\n",
       "replyContent            49998\n",
       "repliedAt               49998\n",
       "appVersion              18964\n",
       "dtype: int64"
      ]
     },
     "execution_count": 8,
     "metadata": {},
     "output_type": "execute_result"
    }
   ],
   "source": [
    "df_cleaned.isna().sum()"
   ]
  },
  {
   "cell_type": "code",
   "execution_count": 9,
   "metadata": {},
   "outputs": [
    {
     "data": {
      "text/html": [
       "<div>\n",
       "<style scoped>\n",
       "    .dataframe tbody tr th:only-of-type {\n",
       "        vertical-align: middle;\n",
       "    }\n",
       "\n",
       "    .dataframe tbody tr th {\n",
       "        vertical-align: top;\n",
       "    }\n",
       "\n",
       "    .dataframe thead th {\n",
       "        text-align: right;\n",
       "    }\n",
       "</style>\n",
       "<table border=\"1\" class=\"dataframe\">\n",
       "  <thead>\n",
       "    <tr style=\"text-align: right;\">\n",
       "      <th></th>\n",
       "      <th>reviewId</th>\n",
       "      <th>userName</th>\n",
       "      <th>userImage</th>\n",
       "      <th>content</th>\n",
       "      <th>score</th>\n",
       "      <th>thumbsUpCount</th>\n",
       "      <th>reviewCreatedVersion</th>\n",
       "      <th>at</th>\n",
       "      <th>replyContent</th>\n",
       "      <th>repliedAt</th>\n",
       "      <th>appVersion</th>\n",
       "    </tr>\n",
       "  </thead>\n",
       "  <tbody>\n",
       "    <tr>\n",
       "      <th>4</th>\n",
       "      <td>bac07a00-b04c-488d-bb7b-92919c2f98a8</td>\n",
       "      <td>Alex Turner Mayer</td>\n",
       "      <td>https://play-lh.googleusercontent.com/a-/ALV-U...</td>\n",
       "      <td>Masak mau beli paketan login melulu.</td>\n",
       "      <td>1</td>\n",
       "      <td>0</td>\n",
       "      <td>NaN</td>\n",
       "      <td>2024-12-30 15:34:08</td>\n",
       "      <td>NaN</td>\n",
       "      <td>NaN</td>\n",
       "      <td>NaN</td>\n",
       "    </tr>\n",
       "    <tr>\n",
       "      <th>7</th>\n",
       "      <td>d03ab1f4-2f4f-45f7-b187-87bc6a1fea14</td>\n",
       "      <td>Man cep</td>\n",
       "      <td>https://play-lh.googleusercontent.com/a-/ALV-U...</td>\n",
       "      <td>Ok</td>\n",
       "      <td>5</td>\n",
       "      <td>0</td>\n",
       "      <td>NaN</td>\n",
       "      <td>2024-12-30 07:33:55</td>\n",
       "      <td>NaN</td>\n",
       "      <td>NaN</td>\n",
       "      <td>NaN</td>\n",
       "    </tr>\n",
       "    <tr>\n",
       "      <th>8</th>\n",
       "      <td>f3dc0309-4da7-49e4-a1c8-1ff414619727</td>\n",
       "      <td>alevs elatea</td>\n",
       "      <td>https://play-lh.googleusercontent.com/a-/ALV-U...</td>\n",
       "      <td>Tampilan nominal kuota tidak akurat, aplikasi ...</td>\n",
       "      <td>2</td>\n",
       "      <td>0</td>\n",
       "      <td>NaN</td>\n",
       "      <td>2024-12-30 03:31:03</td>\n",
       "      <td>NaN</td>\n",
       "      <td>NaN</td>\n",
       "      <td>NaN</td>\n",
       "    </tr>\n",
       "    <tr>\n",
       "      <th>12</th>\n",
       "      <td>68bf0017-5649-4704-939c-03f31ff094d6</td>\n",
       "      <td>Say Yang</td>\n",
       "      <td>https://play-lh.googleusercontent.com/a/ACg8oc...</td>\n",
       "      <td>Kenapa sih pas saya download apk ini pulsa say...</td>\n",
       "      <td>1</td>\n",
       "      <td>0</td>\n",
       "      <td>NaN</td>\n",
       "      <td>2024-12-29 22:43:42</td>\n",
       "      <td>NaN</td>\n",
       "      <td>NaN</td>\n",
       "      <td>NaN</td>\n",
       "    </tr>\n",
       "    <tr>\n",
       "      <th>13</th>\n",
       "      <td>5dc983a8-39d8-4f14-a376-147de0bf8f72</td>\n",
       "      <td>Boy Tjahyadi Herman (Ko Boy)</td>\n",
       "      <td>https://play-lh.googleusercontent.com/a-/ALV-U...</td>\n",
       "      <td>Good apps</td>\n",
       "      <td>5</td>\n",
       "      <td>0</td>\n",
       "      <td>NaN</td>\n",
       "      <td>2024-12-29 21:23:57</td>\n",
       "      <td>NaN</td>\n",
       "      <td>NaN</td>\n",
       "      <td>NaN</td>\n",
       "    </tr>\n",
       "    <tr>\n",
       "      <th>...</th>\n",
       "      <td>...</td>\n",
       "      <td>...</td>\n",
       "      <td>...</td>\n",
       "      <td>...</td>\n",
       "      <td>...</td>\n",
       "      <td>...</td>\n",
       "      <td>...</td>\n",
       "      <td>...</td>\n",
       "      <td>...</td>\n",
       "      <td>...</td>\n",
       "      <td>...</td>\n",
       "    </tr>\n",
       "    <tr>\n",
       "      <th>49963</th>\n",
       "      <td>1ea67313-2eb2-4992-9178-379157f15b0f</td>\n",
       "      <td>Pengguna Google</td>\n",
       "      <td>https://play-lh.googleusercontent.com/EGemoI2N...</td>\n",
       "      <td>menyenankan</td>\n",
       "      <td>5</td>\n",
       "      <td>0</td>\n",
       "      <td>NaN</td>\n",
       "      <td>2020-01-21 04:29:18</td>\n",
       "      <td>NaN</td>\n",
       "      <td>NaN</td>\n",
       "      <td>NaN</td>\n",
       "    </tr>\n",
       "    <tr>\n",
       "      <th>49970</th>\n",
       "      <td>a2499faa-f3e6-4701-b473-04e4795aab27</td>\n",
       "      <td>Pengguna Google</td>\n",
       "      <td>https://play-lh.googleusercontent.com/EGemoI2N...</td>\n",
       "      <td>1 aja dulu karna tak bisa di buka</td>\n",
       "      <td>1</td>\n",
       "      <td>5</td>\n",
       "      <td>NaN</td>\n",
       "      <td>2020-01-21 04:06:55</td>\n",
       "      <td>NaN</td>\n",
       "      <td>NaN</td>\n",
       "      <td>NaN</td>\n",
       "    </tr>\n",
       "    <tr>\n",
       "      <th>49973</th>\n",
       "      <td>c6528276-2e07-445c-8346-b64c2b13c3c8</td>\n",
       "      <td>Pengguna Google</td>\n",
       "      <td>https://play-lh.googleusercontent.com/EGemoI2N...</td>\n",
       "      <td>Waduh tidak semua perangkat android bisa pakai...</td>\n",
       "      <td>1</td>\n",
       "      <td>6</td>\n",
       "      <td>NaN</td>\n",
       "      <td>2020-01-21 03:46:18</td>\n",
       "      <td>NaN</td>\n",
       "      <td>NaN</td>\n",
       "      <td>NaN</td>\n",
       "    </tr>\n",
       "    <tr>\n",
       "      <th>49993</th>\n",
       "      <td>069aea1a-25b2-4c2a-a6f2-311fdd6ba2d9</td>\n",
       "      <td>Pengguna Google</td>\n",
       "      <td>https://play-lh.googleusercontent.com/EGemoI2N...</td>\n",
       "      <td>Ksh 3 dulu</td>\n",
       "      <td>4</td>\n",
       "      <td>0</td>\n",
       "      <td>NaN</td>\n",
       "      <td>2020-01-21 01:56:29</td>\n",
       "      <td>NaN</td>\n",
       "      <td>NaN</td>\n",
       "      <td>NaN</td>\n",
       "    </tr>\n",
       "    <tr>\n",
       "      <th>49995</th>\n",
       "      <td>a75693d2-364a-4ec4-8c67-3508eb985a8c</td>\n",
       "      <td>Pengguna Google</td>\n",
       "      <td>https://play-lh.googleusercontent.com/EGemoI2N...</td>\n",
       "      <td>Mantap lah... Transaksi jadi lebih mudah</td>\n",
       "      <td>5</td>\n",
       "      <td>0</td>\n",
       "      <td>NaN</td>\n",
       "      <td>2020-01-21 01:54:01</td>\n",
       "      <td>NaN</td>\n",
       "      <td>NaN</td>\n",
       "      <td>NaN</td>\n",
       "    </tr>\n",
       "  </tbody>\n",
       "</table>\n",
       "<p>18964 rows × 11 columns</p>\n",
       "</div>"
      ],
      "text/plain": [
       "                                   reviewId                      userName  \\\n",
       "4      bac07a00-b04c-488d-bb7b-92919c2f98a8             Alex Turner Mayer   \n",
       "7      d03ab1f4-2f4f-45f7-b187-87bc6a1fea14                       Man cep   \n",
       "8      f3dc0309-4da7-49e4-a1c8-1ff414619727                  alevs elatea   \n",
       "12     68bf0017-5649-4704-939c-03f31ff094d6                      Say Yang   \n",
       "13     5dc983a8-39d8-4f14-a376-147de0bf8f72  Boy Tjahyadi Herman (Ko Boy)   \n",
       "...                                     ...                           ...   \n",
       "49963  1ea67313-2eb2-4992-9178-379157f15b0f               Pengguna Google   \n",
       "49970  a2499faa-f3e6-4701-b473-04e4795aab27               Pengguna Google   \n",
       "49973  c6528276-2e07-445c-8346-b64c2b13c3c8               Pengguna Google   \n",
       "49993  069aea1a-25b2-4c2a-a6f2-311fdd6ba2d9               Pengguna Google   \n",
       "49995  a75693d2-364a-4ec4-8c67-3508eb985a8c               Pengguna Google   \n",
       "\n",
       "                                               userImage  \\\n",
       "4      https://play-lh.googleusercontent.com/a-/ALV-U...   \n",
       "7      https://play-lh.googleusercontent.com/a-/ALV-U...   \n",
       "8      https://play-lh.googleusercontent.com/a-/ALV-U...   \n",
       "12     https://play-lh.googleusercontent.com/a/ACg8oc...   \n",
       "13     https://play-lh.googleusercontent.com/a-/ALV-U...   \n",
       "...                                                  ...   \n",
       "49963  https://play-lh.googleusercontent.com/EGemoI2N...   \n",
       "49970  https://play-lh.googleusercontent.com/EGemoI2N...   \n",
       "49973  https://play-lh.googleusercontent.com/EGemoI2N...   \n",
       "49993  https://play-lh.googleusercontent.com/EGemoI2N...   \n",
       "49995  https://play-lh.googleusercontent.com/EGemoI2N...   \n",
       "\n",
       "                                                 content  score  \\\n",
       "4                   Masak mau beli paketan login melulu.      1   \n",
       "7                                                     Ok      5   \n",
       "8      Tampilan nominal kuota tidak akurat, aplikasi ...      2   \n",
       "12     Kenapa sih pas saya download apk ini pulsa say...      1   \n",
       "13                                             Good apps      5   \n",
       "...                                                  ...    ...   \n",
       "49963                                        menyenankan      5   \n",
       "49970                  1 aja dulu karna tak bisa di buka      1   \n",
       "49973  Waduh tidak semua perangkat android bisa pakai...      1   \n",
       "49993                                         Ksh 3 dulu      4   \n",
       "49995           Mantap lah... Transaksi jadi lebih mudah      5   \n",
       "\n",
       "       thumbsUpCount reviewCreatedVersion                  at  replyContent  \\\n",
       "4                  0                  NaN 2024-12-30 15:34:08           NaN   \n",
       "7                  0                  NaN 2024-12-30 07:33:55           NaN   \n",
       "8                  0                  NaN 2024-12-30 03:31:03           NaN   \n",
       "12                 0                  NaN 2024-12-29 22:43:42           NaN   \n",
       "13                 0                  NaN 2024-12-29 21:23:57           NaN   \n",
       "...              ...                  ...                 ...           ...   \n",
       "49963              0                  NaN 2020-01-21 04:29:18           NaN   \n",
       "49970              5                  NaN 2020-01-21 04:06:55           NaN   \n",
       "49973              6                  NaN 2020-01-21 03:46:18           NaN   \n",
       "49993              0                  NaN 2020-01-21 01:56:29           NaN   \n",
       "49995              0                  NaN 2020-01-21 01:54:01           NaN   \n",
       "\n",
       "       repliedAt appVersion  \n",
       "4            NaN        NaN  \n",
       "7            NaN        NaN  \n",
       "8            NaN        NaN  \n",
       "12           NaN        NaN  \n",
       "13           NaN        NaN  \n",
       "...          ...        ...  \n",
       "49963        NaN        NaN  \n",
       "49970        NaN        NaN  \n",
       "49973        NaN        NaN  \n",
       "49993        NaN        NaN  \n",
       "49995        NaN        NaN  \n",
       "\n",
       "[18964 rows x 11 columns]"
      ]
     },
     "execution_count": 9,
     "metadata": {},
     "output_type": "execute_result"
    }
   ],
   "source": [
    "df_cleaned[df_cleaned['appVersion'].isnull()]"
   ]
  },
  {
   "cell_type": "markdown",
   "metadata": {},
   "source": [
    "Pertama, saya akan menangani missing value pada kolom reviewCreatedVersion & appVersion. Di sini, baris yang tidak memiliki nilai di kedua kolom tersebut akan saya isi dengan value baris di atasnya (backward fill) dengan asumsi karena waktu pemberian review akan berkorelasi dengan versi aplikasi yang di-review."
   ]
  },
  {
   "cell_type": "code",
   "execution_count": 10,
   "metadata": {},
   "outputs": [
    {
     "name": "stderr",
     "output_type": "stream",
     "text": [
      "C:\\Users\\ILHAM\\AppData\\Local\\Temp\\ipykernel_15748\\1948888087.py:2: FutureWarning: Series.fillna with 'method' is deprecated and will raise in a future version. Use obj.ffill() or obj.bfill() instead.\n",
      "  df_cleaned['reviewCreatedVersion'] = df_cleaned['reviewCreatedVersion'].fillna(method='bfill')\n",
      "C:\\Users\\ILHAM\\AppData\\Local\\Temp\\ipykernel_15748\\1948888087.py:3: FutureWarning: Series.fillna with 'method' is deprecated and will raise in a future version. Use obj.ffill() or obj.bfill() instead.\n",
      "  df_cleaned['appVersion'] = df_cleaned['appVersion'].fillna(method='bfill')\n"
     ]
    }
   ],
   "source": [
    "# If there are still missing values, you can use backward fill as a fallback\n",
    "df_cleaned['reviewCreatedVersion'] = df_cleaned['reviewCreatedVersion'].fillna(method='bfill')\n",
    "df_cleaned['appVersion'] = df_cleaned['appVersion'].fillna(method='bfill')"
   ]
  },
  {
   "cell_type": "markdown",
   "metadata": {},
   "source": [
    "Kolom 'replyContent' dan 'repliedAt' akan di-drop karena semua baris tidak memiliki value."
   ]
  },
  {
   "cell_type": "code",
   "execution_count": 11,
   "metadata": {},
   "outputs": [],
   "source": [
    "df_cleaned = df_cleaned.drop(['replyContent', 'repliedAt'], axis=1)"
   ]
  },
  {
   "cell_type": "code",
   "execution_count": 12,
   "metadata": {},
   "outputs": [
    {
     "data": {
      "text/plain": [
       "reviewId                0\n",
       "userName                0\n",
       "userImage               0\n",
       "content                 1\n",
       "score                   0\n",
       "thumbsUpCount           0\n",
       "reviewCreatedVersion    0\n",
       "at                      0\n",
       "appVersion              0\n",
       "dtype: int64"
      ]
     },
     "execution_count": 12,
     "metadata": {},
     "output_type": "execute_result"
    }
   ],
   "source": [
    "df_cleaned.isna().sum()"
   ]
  },
  {
   "cell_type": "markdown",
   "metadata": {},
   "source": [
    "## Remove Duplicates"
   ]
  },
  {
   "cell_type": "code",
   "execution_count": 13,
   "metadata": {},
   "outputs": [
    {
     "data": {
      "text/html": [
       "<div>\n",
       "<style scoped>\n",
       "    .dataframe tbody tr th:only-of-type {\n",
       "        vertical-align: middle;\n",
       "    }\n",
       "\n",
       "    .dataframe tbody tr th {\n",
       "        vertical-align: top;\n",
       "    }\n",
       "\n",
       "    .dataframe thead th {\n",
       "        text-align: right;\n",
       "    }\n",
       "</style>\n",
       "<table border=\"1\" class=\"dataframe\">\n",
       "  <thead>\n",
       "    <tr style=\"text-align: right;\">\n",
       "      <th></th>\n",
       "      <th>reviewId</th>\n",
       "      <th>userName</th>\n",
       "      <th>userImage</th>\n",
       "      <th>content</th>\n",
       "      <th>score</th>\n",
       "      <th>thumbsUpCount</th>\n",
       "      <th>reviewCreatedVersion</th>\n",
       "      <th>at</th>\n",
       "      <th>appVersion</th>\n",
       "    </tr>\n",
       "  </thead>\n",
       "  <tbody>\n",
       "    <tr>\n",
       "      <th>0</th>\n",
       "      <td>9f41f2f8-9a8d-4e33-87b5-ebc5be92c43c</td>\n",
       "      <td>winda selvia</td>\n",
       "      <td>https://play-lh.googleusercontent.com/a-/ALV-U...</td>\n",
       "      <td>Sangat2 buruk Uda lama aku menunggu loding2 tr...</td>\n",
       "      <td>1</td>\n",
       "      <td>0</td>\n",
       "      <td>3.1.0</td>\n",
       "      <td>2024-12-30 21:19:44</td>\n",
       "      <td>3.1.0</td>\n",
       "    </tr>\n",
       "    <tr>\n",
       "      <th>1</th>\n",
       "      <td>cbac7961-7979-458d-9d23-7fe7cda09fc3</td>\n",
       "      <td>Abdul Khalik</td>\n",
       "      <td>https://play-lh.googleusercontent.com/a-/ALV-U...</td>\n",
       "      <td>👌</td>\n",
       "      <td>5</td>\n",
       "      <td>0</td>\n",
       "      <td>3.1.0</td>\n",
       "      <td>2024-12-30 20:44:50</td>\n",
       "      <td>3.1.0</td>\n",
       "    </tr>\n",
       "    <tr>\n",
       "      <th>2</th>\n",
       "      <td>c431e5f7-ce9c-4d0f-80dd-e1e225675cfb</td>\n",
       "      <td>Defandra</td>\n",
       "      <td>https://play-lh.googleusercontent.com/a/ACg8oc...</td>\n",
       "      <td>Okh</td>\n",
       "      <td>5</td>\n",
       "      <td>0</td>\n",
       "      <td>3.1.0</td>\n",
       "      <td>2024-12-30 20:29:25</td>\n",
       "      <td>3.1.0</td>\n",
       "    </tr>\n",
       "    <tr>\n",
       "      <th>3</th>\n",
       "      <td>2ae4df5a-7416-4a26-81c4-f6ec74ea89bf</td>\n",
       "      <td>Arrahman Nulkarim</td>\n",
       "      <td>https://play-lh.googleusercontent.com/a/ACg8oc...</td>\n",
       "      <td>App tekcl besic sdh sy daunload tp sayang susa...</td>\n",
       "      <td>1</td>\n",
       "      <td>0</td>\n",
       "      <td>3.1.0</td>\n",
       "      <td>2024-12-30 18:12:31</td>\n",
       "      <td>3.1.0</td>\n",
       "    </tr>\n",
       "    <tr>\n",
       "      <th>4</th>\n",
       "      <td>bac07a00-b04c-488d-bb7b-92919c2f98a8</td>\n",
       "      <td>Alex Turner Mayer</td>\n",
       "      <td>https://play-lh.googleusercontent.com/a-/ALV-U...</td>\n",
       "      <td>Masak mau beli paketan login melulu.</td>\n",
       "      <td>1</td>\n",
       "      <td>0</td>\n",
       "      <td>3.1.0</td>\n",
       "      <td>2024-12-30 15:34:08</td>\n",
       "      <td>3.1.0</td>\n",
       "    </tr>\n",
       "    <tr>\n",
       "      <th>...</th>\n",
       "      <td>...</td>\n",
       "      <td>...</td>\n",
       "      <td>...</td>\n",
       "      <td>...</td>\n",
       "      <td>...</td>\n",
       "      <td>...</td>\n",
       "      <td>...</td>\n",
       "      <td>...</td>\n",
       "      <td>...</td>\n",
       "    </tr>\n",
       "    <tr>\n",
       "      <th>49993</th>\n",
       "      <td>069aea1a-25b2-4c2a-a6f2-311fdd6ba2d9</td>\n",
       "      <td>Pengguna Google</td>\n",
       "      <td>https://play-lh.googleusercontent.com/EGemoI2N...</td>\n",
       "      <td>Ksh 3 dulu</td>\n",
       "      <td>4</td>\n",
       "      <td>0</td>\n",
       "      <td>1.0.0</td>\n",
       "      <td>2020-01-21 01:56:29</td>\n",
       "      <td>1.0.0</td>\n",
       "    </tr>\n",
       "    <tr>\n",
       "      <th>49994</th>\n",
       "      <td>57c20994-9aa5-4cf6-8369-811596227816</td>\n",
       "      <td>Pengguna Google</td>\n",
       "      <td>https://play-lh.googleusercontent.com/EGemoI2N...</td>\n",
       "      <td>Cukup bagus</td>\n",
       "      <td>5</td>\n",
       "      <td>0</td>\n",
       "      <td>1.0.0</td>\n",
       "      <td>2020-01-21 01:55:16</td>\n",
       "      <td>1.0.0</td>\n",
       "    </tr>\n",
       "    <tr>\n",
       "      <th>49995</th>\n",
       "      <td>a75693d2-364a-4ec4-8c67-3508eb985a8c</td>\n",
       "      <td>Pengguna Google</td>\n",
       "      <td>https://play-lh.googleusercontent.com/EGemoI2N...</td>\n",
       "      <td>Mantap lah... Transaksi jadi lebih mudah</td>\n",
       "      <td>5</td>\n",
       "      <td>0</td>\n",
       "      <td>1.0.0</td>\n",
       "      <td>2020-01-21 01:54:01</td>\n",
       "      <td>1.0.0</td>\n",
       "    </tr>\n",
       "    <tr>\n",
       "      <th>49996</th>\n",
       "      <td>a2378b63-4098-4e28-80fe-176949548b10</td>\n",
       "      <td>Pengguna Google</td>\n",
       "      <td>https://play-lh.googleusercontent.com/EGemoI2N...</td>\n",
       "      <td>Kenapa paketan malam tidak tercantum ya ?</td>\n",
       "      <td>4</td>\n",
       "      <td>11</td>\n",
       "      <td>1.0.0</td>\n",
       "      <td>2020-01-21 01:10:09</td>\n",
       "      <td>1.0.0</td>\n",
       "    </tr>\n",
       "    <tr>\n",
       "      <th>49997</th>\n",
       "      <td>d0d45ec8-8245-4734-9363-49ab7a347b13</td>\n",
       "      <td>Pengguna Google</td>\n",
       "      <td>https://play-lh.googleusercontent.com/EGemoI2N...</td>\n",
       "      <td>Ok bos</td>\n",
       "      <td>5</td>\n",
       "      <td>1</td>\n",
       "      <td>1.0.0</td>\n",
       "      <td>2020-01-21 01:04:30</td>\n",
       "      <td>1.0.0</td>\n",
       "    </tr>\n",
       "  </tbody>\n",
       "</table>\n",
       "<p>49998 rows × 9 columns</p>\n",
       "</div>"
      ],
      "text/plain": [
       "                                   reviewId           userName  \\\n",
       "0      9f41f2f8-9a8d-4e33-87b5-ebc5be92c43c       winda selvia   \n",
       "1      cbac7961-7979-458d-9d23-7fe7cda09fc3       Abdul Khalik   \n",
       "2      c431e5f7-ce9c-4d0f-80dd-e1e225675cfb           Defandra   \n",
       "3      2ae4df5a-7416-4a26-81c4-f6ec74ea89bf  Arrahman Nulkarim   \n",
       "4      bac07a00-b04c-488d-bb7b-92919c2f98a8  Alex Turner Mayer   \n",
       "...                                     ...                ...   \n",
       "49993  069aea1a-25b2-4c2a-a6f2-311fdd6ba2d9    Pengguna Google   \n",
       "49994  57c20994-9aa5-4cf6-8369-811596227816    Pengguna Google   \n",
       "49995  a75693d2-364a-4ec4-8c67-3508eb985a8c    Pengguna Google   \n",
       "49996  a2378b63-4098-4e28-80fe-176949548b10    Pengguna Google   \n",
       "49997  d0d45ec8-8245-4734-9363-49ab7a347b13    Pengguna Google   \n",
       "\n",
       "                                               userImage  \\\n",
       "0      https://play-lh.googleusercontent.com/a-/ALV-U...   \n",
       "1      https://play-lh.googleusercontent.com/a-/ALV-U...   \n",
       "2      https://play-lh.googleusercontent.com/a/ACg8oc...   \n",
       "3      https://play-lh.googleusercontent.com/a/ACg8oc...   \n",
       "4      https://play-lh.googleusercontent.com/a-/ALV-U...   \n",
       "...                                                  ...   \n",
       "49993  https://play-lh.googleusercontent.com/EGemoI2N...   \n",
       "49994  https://play-lh.googleusercontent.com/EGemoI2N...   \n",
       "49995  https://play-lh.googleusercontent.com/EGemoI2N...   \n",
       "49996  https://play-lh.googleusercontent.com/EGemoI2N...   \n",
       "49997  https://play-lh.googleusercontent.com/EGemoI2N...   \n",
       "\n",
       "                                                 content  score  \\\n",
       "0      Sangat2 buruk Uda lama aku menunggu loding2 tr...      1   \n",
       "1                                                      👌      5   \n",
       "2                                                    Okh      5   \n",
       "3      App tekcl besic sdh sy daunload tp sayang susa...      1   \n",
       "4                   Masak mau beli paketan login melulu.      1   \n",
       "...                                                  ...    ...   \n",
       "49993                                         Ksh 3 dulu      4   \n",
       "49994                                        Cukup bagus      5   \n",
       "49995           Mantap lah... Transaksi jadi lebih mudah      5   \n",
       "49996          Kenapa paketan malam tidak tercantum ya ?      4   \n",
       "49997                                             Ok bos      5   \n",
       "\n",
       "       thumbsUpCount reviewCreatedVersion                  at appVersion  \n",
       "0                  0                3.1.0 2024-12-30 21:19:44      3.1.0  \n",
       "1                  0                3.1.0 2024-12-30 20:44:50      3.1.0  \n",
       "2                  0                3.1.0 2024-12-30 20:29:25      3.1.0  \n",
       "3                  0                3.1.0 2024-12-30 18:12:31      3.1.0  \n",
       "4                  0                3.1.0 2024-12-30 15:34:08      3.1.0  \n",
       "...              ...                  ...                 ...        ...  \n",
       "49993              0                1.0.0 2020-01-21 01:56:29      1.0.0  \n",
       "49994              0                1.0.0 2020-01-21 01:55:16      1.0.0  \n",
       "49995              0                1.0.0 2020-01-21 01:54:01      1.0.0  \n",
       "49996             11                1.0.0 2020-01-21 01:10:09      1.0.0  \n",
       "49997              1                1.0.0 2020-01-21 01:04:30      1.0.0  \n",
       "\n",
       "[49998 rows x 9 columns]"
      ]
     },
     "execution_count": 13,
     "metadata": {},
     "output_type": "execute_result"
    }
   ],
   "source": [
    "df_cleaned.drop_duplicates()"
   ]
  },
  {
   "cell_type": "code",
   "execution_count": 14,
   "metadata": {},
   "outputs": [
    {
     "data": {
      "text/plain": [
       "49998"
      ]
     },
     "execution_count": 14,
     "metadata": {},
     "output_type": "execute_result"
    }
   ],
   "source": [
    "len(df_cleaned['reviewId'].unique())"
   ]
  },
  {
   "cell_type": "markdown",
   "metadata": {},
   "source": [
    "Oh ternyata tidak ada baris duplikat pada data ini, bagus."
   ]
  },
  {
   "cell_type": "code",
   "execution_count": 15,
   "metadata": {},
   "outputs": [],
   "source": [
    "df_cleaned.to_csv('../data/cleaned_reviews-com.tsel.telkomselku_12-31-2024_231721.csv', index=False)"
   ]
  },
  {
   "cell_type": "markdown",
   "metadata": {},
   "source": [
    "## Exploratory Data Analysis"
   ]
  },
  {
   "cell_type": "code",
   "execution_count": 16,
   "metadata": {},
   "outputs": [],
   "source": [
    "eda_data = df_cleaned.copy()"
   ]
  },
  {
   "cell_type": "markdown",
   "metadata": {},
   "source": [
    "### Distribution of Scores"
   ]
  },
  {
   "cell_type": "code",
   "execution_count": 17,
   "metadata": {},
   "outputs": [
    {
     "data": {
      "image/png": "[encoded data removed]",
      "text/plain": [
       "<Figure size 1000x600 with 1 Axes>"
      ]
     },
     "metadata": {},
     "output_type": "display_data"
    }
   ],
   "source": [
    "plt.figure(figsize=(10, 6))\n",
    "sns.histplot(eda_data['score'], bins=5)\n",
    "plt.title('Distribution of Review Scores')\n",
    "plt.xlabel('Score')\n",
    "plt.ylabel('Frequency')\n",
    "plt.xticks(range(1, 6))\n",
    "plt.show()\n"
   ]
  },
  {
   "cell_type": "markdown",
   "metadata": {},
   "source": [
    "### Average Score Trends Over Time (by AppVersion)"
   ]
  },
  {
   "cell_type": "code",
   "execution_count": 18,
   "metadata": {},
   "outputs": [
    {
     "name": "stdout",
     "output_type": "stream",
     "text": [
      "   appVersion     score\n",
      "0       1.0.0  2.536711\n",
      "1       1.0.1  2.755444\n",
      "2       1.0.2  3.135162\n",
      "3       1.1.0  3.071736\n",
      "4       1.1.1  2.616724\n",
      "5       1.2.0  2.769090\n",
      "6       1.3.0  2.442834\n",
      "7       2.0.0  2.299283\n",
      "8       3.0.0  2.861685\n",
      "9       3.0.1  2.702703\n",
      "10      3.0.2  4.289871\n",
      "11      3.1.0  3.151079\n"
     ]
    },
    {
     "name": "stderr",
     "output_type": "stream",
     "text": [
      "C:\\Users\\ILHAM\\AppData\\Local\\Temp\\ipykernel_15748\\3875762404.py:9: FutureWarning: \n",
      "\n",
      "Passing `palette` without assigning `hue` is deprecated and will be removed in v0.14.0. Assign the `x` variable to `hue` and set `legend=False` for the same effect.\n",
      "\n",
      "  sns.barplot(data=average_score_by_version, x='appVersion', y='score', palette='viridis')\n"
     ]
    },
    {
     "data": {
      "image/png": "[encoded data removed]",
      "text/plain": [
       "<Figure size 1000x600 with 1 Axes>"
      ]
     },
     "metadata": {},
     "output_type": "display_data"
    }
   ],
   "source": [
    "# Calculate the average score for each app version\n",
    "average_score_by_version = eda_data.groupby('appVersion')['score'].mean().reset_index()\n",
    "\n",
    "# Display the result\n",
    "print(average_score_by_version)\n",
    "\n",
    "# Create a bar plot\n",
    "plt.figure(figsize=(10, 6))\n",
    "sns.barplot(data=average_score_by_version, x='appVersion', y='score', palette='viridis')\n",
    "\n",
    "# Set title and labels\n",
    "plt.title('Average Score by App Version')\n",
    "plt.xlabel('App Version')\n",
    "plt.ylabel('Average Score')\n",
    "\n",
    "# Show the plot\n",
    "plt.show()"
   ]
  },
  {
   "cell_type": "markdown",
   "metadata": {},
   "source": [
    "### Average Score Trends Over Time (by Year Date)"
   ]
  },
  {
   "cell_type": "code",
   "execution_count": 19,
   "metadata": {},
   "outputs": [
    {
     "name": "stderr",
     "output_type": "stream",
     "text": [
      "C:\\Users\\ILHAM\\AppData\\Local\\Temp\\ipykernel_15748\\3217413743.py:2: FutureWarning: 'M' is deprecated and will be removed in a future version, please use 'ME' instead.\n",
      "  average_score_by_month = eda_data.groupby(pd.Grouper(key='at', freq='M'))['score'].mean().reset_index()\n"
     ]
    },
    {
     "data": {
      "image/png": "[encoded data removed]",
      "text/plain": [
       "<Figure size 1000x600 with 1 Axes>"
      ]
     },
     "metadata": {},
     "output_type": "display_data"
    }
   ],
   "source": [
    "# Calculate the average score for each month\n",
    "average_score_by_month = eda_data.groupby(pd.Grouper(key='at', freq='M'))['score'].mean().reset_index()\n",
    "\n",
    "# Create a line plot\n",
    "plt.figure(figsize=(10, 6))\n",
    "sns.lineplot(data=average_score_by_month, x='at', y='score', marker='o')\n",
    "\n",
    "# Set title and labels\n",
    "plt.title('Average Score by Month')\n",
    "plt.xlabel('Month')\n",
    "plt.ylabel('Average Score')\n",
    "\n",
    "# Format x-axis to show month and year\n",
    "plt.xticks(rotation=45, ha='right')\n",
    "\n",
    "# Set x-axis major locator to show all months\n",
    "plt.gca().xaxis.set_major_formatter(mdates.DateFormatter('%Y-%m'))\n",
    "\n",
    "# Show the plot\n",
    "plt.show()"
   ]
  }
 ],
 "metadata": {
  "kernelspec": {
   "display_name": "Python 3",
   "language": "python",
   "name": "python3"
  },
  "language_info": {
   "codemirror_mode": {
    "name": "ipython",
    "version": 3
   },
   "file_extension": ".py",
   "mimetype": "text/x-python",
   "name": "python",
   "nbconvert_exporter": "python",
   "pygments_lexer": "ipython3",
   "version": "3.12.4"
  }
 },
 "nbformat": 4,
 "nbformat_minor": 2
}
